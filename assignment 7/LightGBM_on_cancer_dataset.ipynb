{
  "nbformat": 4,
  "nbformat_minor": 0,
  "metadata": {
    "colab": {
      "name": "LightGBM_on_cancer_dataset.ipynb",
      "provenance": [],
      "collapsed_sections": []
    },
    "kernelspec": {
      "name": "python3",
      "display_name": "Python 3"
    }
  },
  "cells": [
    {
      "cell_type": "markdown",
      "metadata": {
        "id": "911OB0IdxHU5"
      },
      "source": [
        "**Implementing LightGBM algorithm on breast cancer dataset**\r\n",
        "\r\n",
        "* Light GBM is the high performance of gradient boosting machines\r\n",
        "* It uses ranking , classification.\r\n",
        "*  it splits the tree leaf wise with the best fit whereas other boosting algorithms split the tree depth wise or level wise rather than leaf-wise.\r\n",
        "* So when growing on the same leaf in Light GBM, the leaf-wise algorithm can reduce more loss than the level-wise algorithm and hence results in much better accuracy which can rarely be achieved by any of the existing boosting algorithms.\r\n",
        "* Faster than existing boosting algorithms."
      ]
    },
    {
      "cell_type": "code",
      "metadata": {
        "id": "tWh_cpwOqHuk"
      },
      "source": [
        "# Import required libraries\n",
        "\n",
        "import numpy as np\n",
        "import pandas as pd\n",
        "import lightgbm as lgb\n",
        "from sklearn.model_selection import train_test_split\n",
        "from sklearn.preprocessing import LabelBinarizer\n",
        "from sklearn.datasets import load_breast_cancer\n",
        "from sklearn.model_selection import train_test_split\n",
        "from sklearn.preprocessing import StandardScaler\n",
        "from sklearn.ensemble import GradientBoostingClassifier\n",
        "from sklearn.metrics import mean_squared_error,roc_auc_score,precision_score\n",
        "pd.options.display.max_columns = 999"
      ],
      "execution_count": null,
      "outputs": []
    },
    {
      "cell_type": "code",
      "metadata": {
        "id": "_39iX1c4rJc6"
      },
      "source": [
        "# Load data\n",
        "bc_data =load_breast_cancer()\n",
        "df=pd.DataFrame(bc_data.data,columns=bc_data.feature_names)\n",
        "y=bc_data.target"
      ],
      "execution_count": null,
      "outputs": []
    },
    {
      "cell_type": "code",
      "metadata": {
        "id": "MoqqkpmhrLNw"
      },
      "source": [
        "#Scale the data\n",
        "standard_scalar=StandardScaler()\n",
        "standard_scalar.fit(df)\n",
        "x=pd.DataFrame(standard_scalar.fit_transform(df))"
      ],
      "execution_count": null,
      "outputs": []
    },
    {
      "cell_type": "code",
      "metadata": {
        "id": "DzKwj5UxOAZ0"
      },
      "source": [
        "# Split the dataset to train and test\r\n",
        "x_train,x_test,y_train,y_test=train_test_split(x,y,test_size=0.3,random_state=0)\r\n"
      ],
      "execution_count": null,
      "outputs": []
    },
    {
      "cell_type": "code",
      "metadata": {
        "id": "jkUorv63OMM6"
      },
      "source": [
        "# Convert the dataset into the LGB format \r\n",
        "df_train=lgb.Dataset(x_train, label=y_train)"
      ],
      "execution_count": null,
      "outputs": []
    },
    {
      "cell_type": "code",
      "metadata": {
        "id": "6PF711UwwGZP"
      },
      "source": [
        "# Define the parameters\n",
        "params={}\n",
        "params['learning_rate']= 0.01\n",
        "params['boosting_type']='gbdt' # Gradient Boosting Decision Tree\n",
        "params['objective']='binary'\n",
        "params['metric']='binary_logloss'\n",
        "params['max_depth']=10\n"
      ],
      "execution_count": null,
      "outputs": []
    },
    {
      "cell_type": "code",
      "metadata": {
        "id": "cjKldnatwH_T"
      },
      "source": [
        "# Train the model \n",
        "lgtgbm=lgb.train(params,df_train,50)"
      ],
      "execution_count": null,
      "outputs": []
    },
    {
      "cell_type": "code",
      "metadata": {
        "id": "7DTTQY4cO2kk"
      },
      "source": [
        "#prediction on the test set\r\n",
        "y_pred=lgtgbm.predict(x_test)"
      ],
      "execution_count": null,
      "outputs": []
    },
    {
      "cell_type": "code",
      "metadata": {
        "colab": {
          "base_uri": "https://localhost:8080/"
        },
        "id": "COKPuL0lwS66",
        "outputId": "d1352cf6-d52c-48df-97d7-45257a45dc8a"
      },
      "source": [
        "# Print predictions\r\n",
        "y_pred"
      ],
      "execution_count": null,
      "outputs": [
        {
          "output_type": "execute_result",
          "data": {
            "text/plain": [
              "array([0.4261887 , 0.7440099 , 0.77207225, 0.7584301 , 0.76753864,\n",
              "       0.77318179, 0.75469593, 0.77322157, 0.75344027, 0.77104072,\n",
              "       0.53916081, 0.70196666, 0.75466739, 0.60602579, 0.53208742,\n",
              "       0.44752328, 0.65540066, 0.38446697, 0.37892319, 0.37844046,\n",
              "       0.37053481, 0.37748337, 0.68477552, 0.77316909, 0.44750283,\n",
              "       0.77322333, 0.77110948, 0.44918592, 0.77324008, 0.38141898,\n",
              "       0.76984713, 0.38018787, 0.75529634, 0.44358721, 0.77108689,\n",
              "       0.4261887 , 0.77325928, 0.45144503, 0.75837168, 0.37852191,\n",
              "       0.60602579, 0.7753155 , 0.60602579, 0.77327705, 0.69446498,\n",
              "       0.37829636, 0.77108689, 0.77254651, 0.77327049, 0.37411886,\n",
              "       0.37907927, 0.37356441, 0.45060473, 0.77318285, 0.77400419,\n",
              "       0.77317643, 0.7440099 , 0.65303862, 0.76362741, 0.37784692,\n",
              "       0.42763782, 0.37759362, 0.77401325, 0.77318021, 0.38222157,\n",
              "       0.65303862, 0.37910838, 0.37813959, 0.38172158, 0.77126071,\n",
              "       0.68515626, 0.37852346, 0.77316895, 0.61750354, 0.43785875,\n",
              "       0.7440099 , 0.77323642, 0.65869022, 0.77117746, 0.77144235,\n",
              "       0.38177377, 0.37916471, 0.37565394, 0.76764654, 0.43632325,\n",
              "       0.7743956 , 0.77118971, 0.77324125, 0.37516112, 0.37852489,\n",
              "       0.77330863, 0.68515626, 0.66387331, 0.39541388, 0.75223898,\n",
              "       0.77331513, 0.379106  , 0.65386294, 0.77321097, 0.77323431,\n",
              "       0.77340052, 0.77328829, 0.75843991, 0.7440099 , 0.37575284,\n",
              "       0.70479081, 0.37743302, 0.66769581, 0.71368171, 0.47075295,\n",
              "       0.77389043, 0.37776421, 0.37793541, 0.53916081, 0.77102712,\n",
              "       0.7440099 , 0.68955529, 0.77339351, 0.7440099 , 0.77330961,\n",
              "       0.66902496, 0.77317401, 0.42989322, 0.68477552, 0.37904064,\n",
              "       0.52513994, 0.60602579, 0.77317087, 0.77326854, 0.77142936,\n",
              "       0.3791846 , 0.77342844, 0.77326159, 0.64687282, 0.75703755,\n",
              "       0.77323847, 0.69372755, 0.58313131, 0.37853873, 0.77348902,\n",
              "       0.77330821, 0.70557337, 0.37655928, 0.7731888 , 0.77336362,\n",
              "       0.3770955 , 0.77174948, 0.71370147, 0.77322696, 0.77340631,\n",
              "       0.773189  , 0.43888595, 0.65967129, 0.64406289, 0.77323307,\n",
              "       0.37590921, 0.77702561, 0.66333441, 0.77205568, 0.37861224,\n",
              "       0.3785022 , 0.7732988 , 0.65968284, 0.38458318, 0.77318801,\n",
              "       0.3801081 , 0.42895954, 0.3780161 , 0.75605761, 0.75462773,\n",
              "       0.7546351 ])"
            ]
          },
          "metadata": {
            "tags": []
          },
          "execution_count": 15
        }
      ]
    },
    {
      "cell_type": "code",
      "metadata": {
        "id": "1owUTXt5PIqm"
      },
      "source": [
        ""
      ],
      "execution_count": null,
      "outputs": []
    }
  ]
}