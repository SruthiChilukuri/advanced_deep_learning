{
  "nbformat": 4,
  "nbformat_minor": 0,
  "metadata": {
    "colab": {
      "name": "multiple instance learning.ipynb",
      "provenance": [],
      "authorship_tag": "ABX9TyM6xebME89MjD8hbkiEI6wc",
      "include_colab_link": true
    },
    "kernelspec": {
      "name": "python3",
      "display_name": "Python 3"
    }
  },
  "cells": [
    {
      "cell_type": "markdown",
      "metadata": {
        "id": "view-in-github",
        "colab_type": "text"
      },
      "source": [
        "<a href=\"https://colab.research.google.com/github/SruthiChilukuri/advanced_deep_learning/blob/master/multiple_instance_learning.ipynb\" target=\"_parent\"><img src=\"https://colab.research.google.com/assets/colab-badge.svg\" alt=\"Open In Colab\"/></a>"
      ]
    },
    {
      "cell_type": "code",
      "metadata": {
        "id": "5pvfIpQpLd6S",
        "colab_type": "code",
        "colab": {}
      },
      "source": [
        "import pandas as pad\n",
        "import numpy as np\n"
      ],
      "execution_count": 1,
      "outputs": []
    }
  ]
}