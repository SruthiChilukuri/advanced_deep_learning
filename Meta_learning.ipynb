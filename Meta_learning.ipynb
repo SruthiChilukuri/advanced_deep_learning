{
  "nbformat": 4,
  "nbformat_minor": 0,
  "metadata": {
    "colab": {
      "name": "Meta_learning.ipynb",
      "provenance": [],
      "collapsed_sections": [],
      "include_colab_link": true
    },
    "kernelspec": {
      "name": "python3",
      "display_name": "Python 3"
    },
    "accelerator": "GPU"
  },
  "cells": [
    {
      "cell_type": "markdown",
      "metadata": {
        "id": "view-in-github",
        "colab_type": "text"
      },
      "source": [
        "<a href=\"https://colab.research.google.com/github/SruthiChilukuri/advanced_deep_learning/blob/master/Meta_learning.ipynb\" target=\"_parent\"><img src=\"https://colab.research.google.com/assets/colab-badge.svg\" alt=\"Open In Colab\"/></a>"
      ]
    },
    {
      "cell_type": "markdown",
      "metadata": {
        "id": "z4IJRByNiUA6"
      },
      "source": [
        "#Meta Learning implementation\n",
        "\n",
        "Meta learning can be defined as a process that learns how to learn the model in runtime. It is a dynamic process which is primarily used for the following reasons:\n",
        "\n",
        "- Large datasets are not available during training time.\n",
        "- Data has long tail i.e. a large number of classes to train but with little data about each of them.\n",
        "- We want to quickly learn something about a new task without training our model from scratch.\n",
        "\n",
        "#Training on Omniglot dataset\n",
        "\n",
        "- The dataset contains 1623 different handwritten characters from 50 different alphabets. \n",
        "\n",
        "- Contains a total of 50 alphabets\n",
        "\n",
        "- Commonly used to implement eature learning, meta-learning, or hyperparameter inference.\n",
        "\n"
      ]
    },
    {
      "cell_type": "code",
      "metadata": {
        "id": "pAw8AOOMr3b-",
        "outputId": "b5910bbd-ad4a-4b78-99c9-c235ca1158ad",
        "colab": {
          "base_uri": "https://localhost:8080/"
        }
      },
      "source": [
        "!pip install tensorflow==1.13.1"
      ],
      "execution_count": null,
      "outputs": [
        {
          "output_type": "stream",
          "text": [
            "Collecting tensorflow==1.13.1\n",
            "\u001b[?25l  Downloading https://files.pythonhosted.org/packages/77/63/a9fa76de8dffe7455304c4ed635be4aa9c0bacef6e0633d87d5f54530c5c/tensorflow-1.13.1-cp36-cp36m-manylinux1_x86_64.whl (92.5MB)\n",
            "\u001b[K     |████████████████████████████████| 92.5MB 44kB/s \n",
            "\u001b[?25hCollecting tensorboard<1.14.0,>=1.13.0\n",
            "\u001b[?25l  Downloading https://files.pythonhosted.org/packages/0f/39/bdd75b08a6fba41f098b6cb091b9e8c7a80e1b4d679a581a0ccd17b10373/tensorboard-1.13.1-py3-none-any.whl (3.2MB)\n",
            "\u001b[K     |████████████████████████████████| 3.2MB 52.7MB/s \n",
            "\u001b[?25hRequirement already satisfied: termcolor>=1.1.0 in /usr/local/lib/python3.6/dist-packages (from tensorflow==1.13.1) (1.1.0)\n",
            "Requirement already satisfied: numpy>=1.13.3 in /usr/local/lib/python3.6/dist-packages (from tensorflow==1.13.1) (1.18.5)\n",
            "Requirement already satisfied: wheel>=0.26 in /usr/local/lib/python3.6/dist-packages (from tensorflow==1.13.1) (0.35.1)\n",
            "Requirement already satisfied: absl-py>=0.1.6 in /usr/local/lib/python3.6/dist-packages (from tensorflow==1.13.1) (0.10.0)\n",
            "Requirement already satisfied: keras-preprocessing>=1.0.5 in /usr/local/lib/python3.6/dist-packages (from tensorflow==1.13.1) (1.1.2)\n",
            "Requirement already satisfied: astor>=0.6.0 in /usr/local/lib/python3.6/dist-packages (from tensorflow==1.13.1) (0.8.1)\n",
            "Collecting tensorflow-estimator<1.14.0rc0,>=1.13.0\n",
            "\u001b[?25l  Downloading https://files.pythonhosted.org/packages/bb/48/13f49fc3fa0fdf916aa1419013bb8f2ad09674c275b4046d5ee669a46873/tensorflow_estimator-1.13.0-py2.py3-none-any.whl (367kB)\n",
            "\u001b[K     |████████████████████████████████| 368kB 48.1MB/s \n",
            "\u001b[?25hRequirement already satisfied: six>=1.10.0 in /usr/local/lib/python3.6/dist-packages (from tensorflow==1.13.1) (1.15.0)\n",
            "Collecting keras-applications>=1.0.6\n",
            "\u001b[?25l  Downloading https://files.pythonhosted.org/packages/71/e3/19762fdfc62877ae9102edf6342d71b28fbfd9dea3d2f96a882ce099b03f/Keras_Applications-1.0.8-py3-none-any.whl (50kB)\n",
            "\u001b[K     |████████████████████████████████| 51kB 8.8MB/s \n",
            "\u001b[?25hRequirement already satisfied: protobuf>=3.6.1 in /usr/local/lib/python3.6/dist-packages (from tensorflow==1.13.1) (3.12.4)\n",
            "Requirement already satisfied: grpcio>=1.8.6 in /usr/local/lib/python3.6/dist-packages (from tensorflow==1.13.1) (1.33.1)\n",
            "Requirement already satisfied: gast>=0.2.0 in /usr/local/lib/python3.6/dist-packages (from tensorflow==1.13.1) (0.3.3)\n",
            "Requirement already satisfied: markdown>=2.6.8 in /usr/local/lib/python3.6/dist-packages (from tensorboard<1.14.0,>=1.13.0->tensorflow==1.13.1) (3.3.2)\n",
            "Requirement already satisfied: werkzeug>=0.11.15 in /usr/local/lib/python3.6/dist-packages (from tensorboard<1.14.0,>=1.13.0->tensorflow==1.13.1) (1.0.1)\n",
            "Collecting mock>=2.0.0\n",
            "  Downloading https://files.pythonhosted.org/packages/cd/74/d72daf8dff5b6566db857cfd088907bb0355f5dd2914c4b3ef065c790735/mock-4.0.2-py3-none-any.whl\n",
            "Requirement already satisfied: h5py in /usr/local/lib/python3.6/dist-packages (from keras-applications>=1.0.6->tensorflow==1.13.1) (2.10.0)\n",
            "Requirement already satisfied: setuptools in /usr/local/lib/python3.6/dist-packages (from protobuf>=3.6.1->tensorflow==1.13.1) (50.3.2)\n",
            "Requirement already satisfied: importlib-metadata; python_version < \"3.8\" in /usr/local/lib/python3.6/dist-packages (from markdown>=2.6.8->tensorboard<1.14.0,>=1.13.0->tensorflow==1.13.1) (2.0.0)\n",
            "Requirement already satisfied: zipp>=0.5 in /usr/local/lib/python3.6/dist-packages (from importlib-metadata; python_version < \"3.8\"->markdown>=2.6.8->tensorboard<1.14.0,>=1.13.0->tensorflow==1.13.1) (3.3.1)\n",
            "Installing collected packages: tensorboard, mock, tensorflow-estimator, keras-applications, tensorflow\n",
            "  Found existing installation: tensorboard 2.3.0\n",
            "    Uninstalling tensorboard-2.3.0:\n",
            "      Successfully uninstalled tensorboard-2.3.0\n",
            "  Found existing installation: tensorflow-estimator 2.3.0\n",
            "    Uninstalling tensorflow-estimator-2.3.0:\n",
            "      Successfully uninstalled tensorflow-estimator-2.3.0\n",
            "  Found existing installation: tensorflow 2.3.0\n",
            "    Uninstalling tensorflow-2.3.0:\n",
            "      Successfully uninstalled tensorflow-2.3.0\n",
            "Successfully installed keras-applications-1.0.8 mock-4.0.2 tensorboard-1.13.1 tensorflow-1.13.1 tensorflow-estimator-1.13.0\n"
          ],
          "name": "stdout"
        }
      ]
    },
    {
      "cell_type": "code",
      "metadata": {
        "id": "X4C6WwyShLg7",
        "outputId": "5a778d4a-db91-4581-b9fc-b236251d3294",
        "colab": {
          "base_uri": "https://localhost:8080/"
        }
      },
      "source": [
        "import os\n",
        "import glob\n",
        "from PIL import Image\n",
        "\n",
        "import numpy as np\n",
        "import tensorflow as tf"
      ],
      "execution_count": null,
      "outputs": [
        {
          "output_type": "stream",
          "text": [
            "/usr/local/lib/python3.6/dist-packages/tensorflow/python/framework/dtypes.py:526: FutureWarning: Passing (type, 1) or '1type' as a synonym of type is deprecated; in a future version of numpy, it will be understood as (type, (1,)) / '(1,)type'.\n",
            "  _np_qint8 = np.dtype([(\"qint8\", np.int8, 1)])\n",
            "/usr/local/lib/python3.6/dist-packages/tensorflow/python/framework/dtypes.py:527: FutureWarning: Passing (type, 1) or '1type' as a synonym of type is deprecated; in a future version of numpy, it will be understood as (type, (1,)) / '(1,)type'.\n",
            "  _np_quint8 = np.dtype([(\"quint8\", np.uint8, 1)])\n",
            "/usr/local/lib/python3.6/dist-packages/tensorflow/python/framework/dtypes.py:528: FutureWarning: Passing (type, 1) or '1type' as a synonym of type is deprecated; in a future version of numpy, it will be understood as (type, (1,)) / '(1,)type'.\n",
            "  _np_qint16 = np.dtype([(\"qint16\", np.int16, 1)])\n",
            "/usr/local/lib/python3.6/dist-packages/tensorflow/python/framework/dtypes.py:529: FutureWarning: Passing (type, 1) or '1type' as a synonym of type is deprecated; in a future version of numpy, it will be understood as (type, (1,)) / '(1,)type'.\n",
            "  _np_quint16 = np.dtype([(\"quint16\", np.uint16, 1)])\n",
            "/usr/local/lib/python3.6/dist-packages/tensorflow/python/framework/dtypes.py:530: FutureWarning: Passing (type, 1) or '1type' as a synonym of type is deprecated; in a future version of numpy, it will be understood as (type, (1,)) / '(1,)type'.\n",
            "  _np_qint32 = np.dtype([(\"qint32\", np.int32, 1)])\n",
            "/usr/local/lib/python3.6/dist-packages/tensorflow/python/framework/dtypes.py:535: FutureWarning: Passing (type, 1) or '1type' as a synonym of type is deprecated; in a future version of numpy, it will be understood as (type, (1,)) / '(1,)type'.\n",
            "  np_resource = np.dtype([(\"resource\", np.ubyte, 1)])\n"
          ],
          "name": "stderr"
        }
      ]
    },
    {
      "cell_type": "code",
      "metadata": {
        "id": "oysLCCMklHYh",
        "outputId": "e6be4221-6848-46e7-86eb-6a610258e460",
        "colab": {
          "base_uri": "https://localhost:8080/"
        }
      },
      "source": [
        "from google.colab import drive\n",
        "drive.mount('/content/drive')"
      ],
      "execution_count": null,
      "outputs": [
        {
          "output_type": "stream",
          "text": [
            "Mounted at /content/drive\n"
          ],
          "name": "stdout"
        }
      ]
    },
    {
      "cell_type": "code",
      "metadata": {
        "id": "uqzsx5qeRXyB",
        "outputId": "bc0532af-52fd-4abe-ad8d-24ee255f46ac",
        "colab": {
          "base_uri": "https://localhost:8080/",
          "height": 122
        }
      },
      "source": [
        "Image.open('/content/drive/My Drive/EST/data/data/images/Japanese_(katakana)/character13/0608_01.png')"
      ],
      "execution_count": null,
      "outputs": [
        {
          "output_type": "execute_result",
          "data": {
            "image/png": "[encoded data removed]",
            "text/plain": [
              "<PIL.PngImagePlugin.PngImageFile image mode=1 size=105x105 at 0x7FACCC239780>"
            ]
          },
          "metadata": {
            "tags": []
          },
          "execution_count": 4
        }
      ]
    },
    {
      "cell_type": "code",
      "metadata": {
        "id": "bSRbTMcxSD9J",
        "outputId": "7cdb1763-e7b0-453e-b4ac-104cf1481532",
        "colab": {
          "base_uri": "https://localhost:8080/",
          "height": 122
        }
      },
      "source": [
        "Image.open('/content/drive/My Drive/EST/data/data/images/Sanskrit/character13/0863_09.png')"
      ],
      "execution_count": null,
      "outputs": [
        {
          "output_type": "execute_result",
          "data": {
            "image/png": "[encoded data removed]",
            "text/plain": [
              "<PIL.PngImagePlugin.PngImageFile image mode=1 size=105x105 at 0x7FACCBA22940>"
            ]
          },
          "metadata": {
            "tags": []
          },
          "execution_count": 5
        }
      ]
    },
    {
      "cell_type": "code",
      "metadata": {
        "id": "wAayMd4xSUS9",
        "outputId": "6d6a8dcc-7c04-4d56-95b4-64d5a818e84e",
        "colab": {
          "base_uri": "https://localhost:8080/",
          "height": 122
        }
      },
      "source": [
        "Image.open('/content/drive/My Drive/EST/data/data/images/Sanskrit/character13/0863_13.png')"
      ],
      "execution_count": null,
      "outputs": [
        {
          "output_type": "execute_result",
          "data": {
            "image/png": "[encoded data removed]",
            "text/plain": [
              "<PIL.PngImagePlugin.PngImageFile image mode=1 size=105x105 at 0x7FACCBA2F320>"
            ]
          },
          "metadata": {
            "tags": []
          },
          "execution_count": 6
        }
      ]
    },
    {
      "cell_type": "markdown",
      "metadata": {
        "id": "muQKgs2aSJ_y"
      },
      "source": [
        "Converting the image to array using `np.array`"
      ]
    },
    {
      "cell_type": "code",
      "metadata": {
        "id": "vEkgg4rSSOIe"
      },
      "source": [
        "image_name = '/content/drive/My Drive/EST/data/data/images/Sanskrit/character13/0863_13.png'\n",
        "alphabet, character, rotation = 'Sanskrit/character13/rot000'.split('/')\n",
        "rotation = float(rotation[3:])"
      ],
      "execution_count": null,
      "outputs": []
    },
    {
      "cell_type": "code",
      "metadata": {
        "id": "lw5hJ_m3Sgw6",
        "outputId": "d3b64689-e8de-421d-a3a6-384a5736af67",
        "colab": {
          "base_uri": "https://localhost:8080/"
        }
      },
      "source": [
        "np.array(Image.open(image_name).rotate(rotation).resize((28, 28)), np.float32,copy=True)"
      ],
      "execution_count": null,
      "outputs": [
        {
          "output_type": "execute_result",
          "data": {
            "text/plain": [
              "array([[1., 1., 1., 1., 1., 1., 1., 1., 1., 1., 1., 1., 1., 1., 1., 1.,\n",
              "        1., 1., 1., 1., 1., 1., 1., 1., 1., 1., 1., 1.],\n",
              "       [1., 1., 1., 1., 1., 1., 1., 1., 1., 1., 1., 1., 1., 1., 1., 1.,\n",
              "        1., 1., 1., 1., 1., 1., 1., 1., 1., 1., 1., 1.],\n",
              "       [1., 1., 1., 1., 1., 1., 1., 1., 1., 1., 1., 1., 1., 1., 1., 1.,\n",
              "        1., 1., 1., 1., 1., 1., 1., 1., 1., 1., 1., 1.],\n",
              "       [1., 1., 1., 1., 1., 1., 1., 1., 1., 1., 1., 1., 1., 1., 1., 1.,\n",
              "        1., 1., 1., 1., 1., 1., 1., 1., 1., 1., 1., 1.],\n",
              "       [1., 1., 1., 1., 1., 1., 1., 1., 1., 1., 1., 1., 1., 1., 1., 1.,\n",
              "        1., 1., 1., 1., 1., 1., 1., 1., 1., 1., 1., 1.],\n",
              "       [1., 1., 1., 1., 1., 1., 1., 1., 1., 1., 1., 1., 1., 1., 1., 1.,\n",
              "        1., 1., 1., 1., 1., 1., 1., 1., 1., 1., 1., 1.],\n",
              "       [1., 1., 1., 1., 1., 1., 1., 1., 1., 1., 1., 1., 1., 1., 1., 1.,\n",
              "        1., 1., 1., 1., 1., 1., 1., 1., 1., 1., 1., 1.],\n",
              "       [1., 1., 1., 1., 1., 1., 0., 0., 0., 0., 0., 0., 0., 0., 0., 0.,\n",
              "        0., 0., 0., 0., 1., 1., 1., 1., 1., 1., 1., 1.],\n",
              "       [1., 1., 1., 1., 1., 0., 0., 0., 0., 0., 0., 0., 0., 0., 0., 0.,\n",
              "        0., 0., 0., 0., 0., 1., 1., 1., 1., 1., 1., 1.],\n",
              "       [1., 1., 1., 1., 1., 1., 1., 1., 1., 1., 1., 1., 1., 1., 0., 0.,\n",
              "        1., 1., 1., 1., 1., 1., 1., 1., 1., 1., 1., 1.],\n",
              "       [1., 1., 1., 1., 1., 1., 1., 1., 1., 1., 1., 0., 0., 0., 0., 0.,\n",
              "        1., 1., 1., 1., 1., 1., 1., 1., 1., 1., 1., 1.],\n",
              "       [1., 1., 1., 1., 1., 1., 1., 1., 1., 0., 0., 0., 1., 1., 1., 1.,\n",
              "        1., 1., 1., 1., 1., 1., 1., 1., 1., 1., 1., 1.],\n",
              "       [1., 1., 1., 1., 1., 1., 1., 0., 0., 0., 1., 1., 1., 1., 1., 1.,\n",
              "        1., 1., 1., 1., 1., 1., 1., 1., 1., 1., 1., 1.],\n",
              "       [1., 1., 1., 1., 1., 1., 1., 0., 1., 1., 1., 1., 1., 1., 1., 1.,\n",
              "        1., 1., 1., 1., 1., 1., 1., 1., 1., 1., 1., 1.],\n",
              "       [1., 1., 1., 1., 1., 1., 1., 0., 0., 0., 0., 0., 0., 0., 0., 1.,\n",
              "        1., 1., 1., 1., 1., 1., 1., 1., 1., 1., 1., 1.],\n",
              "       [1., 1., 1., 1., 1., 1., 1., 1., 1., 1., 1., 1., 1., 1., 1., 0.,\n",
              "        1., 1., 1., 1., 1., 1., 1., 1., 1., 1., 1., 1.],\n",
              "       [1., 1., 1., 1., 1., 1., 1., 1., 1., 1., 1., 1., 1., 1., 1., 0.,\n",
              "        0., 1., 1., 1., 1., 1., 1., 1., 1., 1., 1., 1.],\n",
              "       [1., 1., 1., 1., 1., 1., 1., 1., 1., 0., 1., 1., 1., 1., 1., 0.,\n",
              "        0., 1., 1., 1., 1., 1., 1., 1., 1., 1., 1., 1.],\n",
              "       [1., 1., 1., 1., 1., 1., 1., 1., 1., 0., 0., 1., 1., 1., 0., 0.,\n",
              "        1., 1., 1., 1., 1., 1., 1., 1., 1., 1., 1., 1.],\n",
              "       [1., 1., 1., 1., 1., 1., 1., 1., 1., 1., 0., 0., 0., 0., 1., 1.,\n",
              "        1., 1., 1., 1., 1., 1., 1., 1., 1., 1., 1., 1.],\n",
              "       [1., 1., 1., 1., 1., 1., 1., 1., 1., 1., 1., 1., 1., 1., 1., 1.,\n",
              "        1., 1., 1., 1., 1., 1., 1., 1., 1., 1., 1., 1.],\n",
              "       [1., 1., 1., 1., 1., 1., 1., 1., 1., 1., 1., 1., 1., 1., 1., 1.,\n",
              "        1., 1., 1., 1., 1., 1., 1., 1., 1., 1., 1., 1.],\n",
              "       [1., 1., 1., 1., 1., 1., 1., 1., 1., 1., 1., 1., 1., 1., 1., 1.,\n",
              "        1., 1., 1., 1., 1., 1., 1., 1., 1., 1., 1., 1.],\n",
              "       [1., 1., 1., 1., 1., 1., 1., 1., 1., 1., 1., 1., 1., 1., 1., 1.,\n",
              "        1., 1., 1., 1., 1., 1., 1., 1., 1., 1., 1., 1.],\n",
              "       [1., 1., 1., 1., 1., 1., 1., 1., 1., 1., 1., 1., 1., 1., 1., 1.,\n",
              "        1., 1., 1., 1., 1., 1., 1., 1., 1., 1., 1., 1.],\n",
              "       [1., 1., 1., 1., 1., 1., 1., 1., 1., 1., 1., 1., 1., 1., 1., 1.,\n",
              "        1., 1., 1., 1., 1., 1., 1., 1., 1., 1., 1., 1.],\n",
              "       [1., 1., 1., 1., 1., 1., 1., 1., 1., 1., 1., 1., 1., 1., 1., 1.,\n",
              "        1., 1., 1., 1., 1., 1., 1., 1., 1., 1., 1., 1.],\n",
              "       [1., 1., 1., 1., 1., 1., 1., 1., 1., 1., 1., 1., 1., 1., 1., 1.,\n",
              "        1., 1., 1., 1., 1., 1., 1., 1., 1., 1., 1., 1.]], dtype=float32)"
            ]
          },
          "metadata": {
            "tags": []
          },
          "execution_count": 8
        }
      ]
    },
    {
      "cell_type": "markdown",
      "metadata": {
        "id": "xWar_Pn2SlgP"
      },
      "source": [
        "Load the dataset"
      ]
    },
    {
      "cell_type": "code",
      "metadata": {
        "id": "QbC9nN9PSlLv"
      },
      "source": [
        "root_dir = '/content/drive/My Drive/EST/data/data/'"
      ],
      "execution_count": null,
      "outputs": []
    },
    {
      "cell_type": "code",
      "metadata": {
        "id": "BiBE3tTOS7YQ"
      },
      "source": [
        "train_split_path = os.path.join(root_dir, 'splits', 'train.txt')\n",
        "\n",
        "with open(train_split_path, 'r') as train_split:\n",
        "    train_classes = [line.rstrip() for line in train_split.readlines()]"
      ],
      "execution_count": null,
      "outputs": []
    },
    {
      "cell_type": "code",
      "metadata": {
        "id": "GcJman01Y4B3"
      },
      "source": [
        "#number of classes\n",
        "no_of_classes = len(train_classes)"
      ],
      "execution_count": null,
      "outputs": []
    },
    {
      "cell_type": "code",
      "metadata": {
        "id": "Su_XwnRYdl1J"
      },
      "source": [
        "#number of examples\n",
        "num_examples = 20\n",
        "\n",
        "#image width\n",
        "img_width = 28\n",
        "\n",
        "#image height\n",
        "img_height = 28\n",
        "channels = 1"
      ],
      "execution_count": null,
      "outputs": []
    },
    {
      "cell_type": "code",
      "metadata": {
        "id": "QAhMpJNbdnum"
      },
      "source": [
        "train_dataset = np.zeros([no_of_classes, num_examples, img_height, img_width], dtype=np.float32)"
      ],
      "execution_count": null,
      "outputs": []
    },
    {
      "cell_type": "code",
      "metadata": {
        "id": "1n6N3neFdqQj"
      },
      "source": [
        "for label, name in enumerate(train_classes):\n",
        "    alphabet, character, rotation = name.split('/')\n",
        "    rotation = float(rotation[3:])\n",
        "    img_dir = os.path.join(root_dir, 'data', alphabet, character)\n",
        "    img_files = sorted(glob.glob(os.path.join(img_dir, '*.png')))\n",
        "  \n",
        "    \n",
        "    for index, img_file in enumerate(img_files):\n",
        "        values = 1. - np.array(Image.open(img_file).rotate(rotation).resize((img_width, img_height)), np.float32, copy=False)\n",
        "        train_dataset[label, index] = values"
      ],
      "execution_count": null,
      "outputs": []
    },
    {
      "cell_type": "code",
      "metadata": {
        "id": "ZZ78ROcqdr4K",
        "outputId": "b9621cb3-8e79-420a-dc3f-03da6e6cb7f5",
        "colab": {
          "base_uri": "https://localhost:8080/"
        }
      },
      "source": [
        "train_dataset.shape"
      ],
      "execution_count": null,
      "outputs": [
        {
          "output_type": "execute_result",
          "data": {
            "text/plain": [
              "(4112, 20, 28, 28)"
            ]
          },
          "metadata": {
            "tags": []
          },
          "execution_count": 15
        }
      ]
    },
    {
      "cell_type": "code",
      "metadata": {
        "id": "0behr7_WduN4"
      },
      "source": [
        "def convolution_block(inputs, out_channels, name='conv'):\n",
        "\n",
        "    conv = tf.layers.conv2d(inputs, out_channels, kernel_size=3, padding='SAME')\n",
        "    conv = tf.contrib.layers.batch_norm(conv, updates_collections=None, decay=0.99, scale=True, center=True)\n",
        "    conv = tf.nn.relu(conv)\n",
        "    conv = tf.contrib.layers.max_pool2d(conv, 2)\n",
        "    \n",
        "    return conv"
      ],
      "execution_count": null,
      "outputs": []
    },
    {
      "cell_type": "code",
      "metadata": {
        "id": "C4lBSN_mdwDG"
      },
      "source": [
        "def get_embeddings(support_set, h_dim, z_dim, reuse=False):\n",
        "\n",
        "        net = convolution_block(support_set, h_dim)\n",
        "        net = convolution_block(net, h_dim)\n",
        "        net = convolution_block(net, h_dim) \n",
        "        net = convolution_block(net, z_dim) \n",
        "        net = tf.contrib.layers.flatten(net)\n",
        "        \n",
        "        return net"
      ],
      "execution_count": null,
      "outputs": []
    },
    {
      "cell_type": "code",
      "metadata": {
        "id": "OdaShvGGdx6Q"
      },
      "source": [
        "num_way = 60  \n",
        "\n",
        "#number of examples per class for support set\n",
        "num_shot = 5  \n",
        "\n",
        "#number of query points\n",
        "num_query = 5 \n",
        "\n",
        "#number of examples\n",
        "num_examples = 20\n",
        "\n",
        "h_dim = 64\n",
        "\n",
        "z_dim = 64"
      ],
      "execution_count": null,
      "outputs": []
    },
    {
      "cell_type": "code",
      "metadata": {
        "id": "Z3EaINOQdzsc"
      },
      "source": [
        "support_set = tf.placeholder(tf.float32, [None, None, img_height, img_width, channels])\n",
        "query_set = tf.placeholder(tf.float32, [None, None, img_height, img_width, channels])"
      ],
      "execution_count": null,
      "outputs": []
    },
    {
      "cell_type": "code",
      "metadata": {
        "id": "dxbO_i4Kd2Bq"
      },
      "source": [
        "support_set_shape = tf.shape(support_set)\n",
        "query_set_shape = tf.shape(query_set)"
      ],
      "execution_count": null,
      "outputs": []
    },
    {
      "cell_type": "code",
      "metadata": {
        "id": "VFDjolMad4Hh"
      },
      "source": [
        "num_classes, num_support_points = support_set_shape[0], support_set_shape[1]"
      ],
      "execution_count": null,
      "outputs": []
    },
    {
      "cell_type": "code",
      "metadata": {
        "id": "X-lJFCx9d6Ju"
      },
      "source": [
        "num_query_points = query_set_shape[1]"
      ],
      "execution_count": null,
      "outputs": []
    },
    {
      "cell_type": "code",
      "metadata": {
        "id": "jY7mFaqCd8dN"
      },
      "source": [
        "y = tf.placeholder(tf.int64, [None, None])\n",
        "\n",
        "#convert the label to one hot\n",
        "y_one_hot = tf.one_hot(y, depth=num_classes)"
      ],
      "execution_count": null,
      "outputs": []
    },
    {
      "cell_type": "code",
      "metadata": {
        "id": "crTe1WNtd-oy",
        "outputId": "2e0bcedb-4e1b-43e2-8d21-f2deae5f2de1",
        "colab": {
          "base_uri": "https://localhost:8080/"
        }
      },
      "source": [
        "support_set_embeddings = get_embeddings(tf.reshape(support_set, [num_classes * num_support_points, img_height, img_width, channels]), h_dim, z_dim)"
      ],
      "execution_count": null,
      "outputs": [
        {
          "output_type": "stream",
          "text": [
            "WARNING:tensorflow:From <ipython-input-16-4ba6064d20c1>:3: conv2d (from tensorflow.python.layers.convolutional) is deprecated and will be removed in a future version.\n",
            "Instructions for updating:\n",
            "Use keras.layers.conv2d instead.\n",
            "WARNING:tensorflow:From /usr/local/lib/python3.6/dist-packages/tensorflow/python/framework/op_def_library.py:263: colocate_with (from tensorflow.python.framework.ops) is deprecated and will be removed in a future version.\n",
            "Instructions for updating:\n",
            "Colocations handled automatically by placer.\n",
            "\n",
            "WARNING: The TensorFlow contrib module will not be included in TensorFlow 2.0.\n",
            "For more information, please see:\n",
            "  * https://github.com/tensorflow/community/blob/master/rfcs/20180907-contrib-sunset.md\n",
            "  * https://github.com/tensorflow/addons\n",
            "If you depend on functionality not listed there, please file an issue.\n",
            "\n",
            "WARNING:tensorflow:From /usr/local/lib/python3.6/dist-packages/tensorflow/contrib/layers/python/layers/layers.py:1624: flatten (from tensorflow.python.layers.core) is deprecated and will be removed in a future version.\n",
            "Instructions for updating:\n",
            "Use keras.layers.flatten instead.\n"
          ],
          "name": "stdout"
        }
      ]
    },
    {
      "cell_type": "code",
      "metadata": {
        "id": "GwO359MQeBVX"
      },
      "source": [
        "embedding_dimension = tf.shape(support_set_embeddings)[-1]\n",
        "\n",
        "class_prototype = tf.reduce_mean(tf.reshape(support_set_embeddings, [num_classes, num_support_points, embedding_dimension]), axis=1)"
      ],
      "execution_count": null,
      "outputs": []
    },
    {
      "cell_type": "code",
      "metadata": {
        "id": "-_OtDuSReDI9"
      },
      "source": [
        "query_set_embeddings = get_embeddings(tf.reshape(query_set, [num_classes * num_query_points, img_height, img_width, channels]), h_dim, z_dim, reuse=True)"
      ],
      "execution_count": null,
      "outputs": []
    },
    {
      "cell_type": "markdown",
      "metadata": {
        "id": "n1SRLPhktKZd"
      },
      "source": [
        "Define a distance function which gives us the distance between the class prototypes and query set embeddings"
      ]
    },
    {
      "cell_type": "code",
      "metadata": {
        "id": "XT0246IxeEoy"
      },
      "source": [
        "def euclidean_distance(a, b):\n",
        "\n",
        "    N, D = tf.shape(a)[0], tf.shape(a)[1]\n",
        "    M = tf.shape(b)[0]\n",
        "    a = tf.tile(tf.expand_dims(a, axis=1), (1, M, 1))\n",
        "    b = tf.tile(tf.expand_dims(b, axis=0), (N, 1, 1))\n",
        "    return tf.reduce_mean(tf.square(a - b), axis=2)"
      ],
      "execution_count": null,
      "outputs": []
    },
    {
      "cell_type": "markdown",
      "metadata": {
        "id": "4DCX4R8StGBZ"
      },
      "source": [
        "Calculating the distance between the class prototype and query set embeddings"
      ]
    },
    {
      "cell_type": "code",
      "metadata": {
        "id": "7wPY-9BVeHFB"
      },
      "source": [
        "distance = euclidean_distance(class_prototype,query_set_embeddings)"
      ],
      "execution_count": null,
      "outputs": []
    },
    {
      "cell_type": "code",
      "metadata": {
        "id": "RJjtmFlLeIxo"
      },
      "source": [
        "predicted_probability = tf.reshape(tf.nn.log_softmax(-distance), [num_classes, num_query_points, -1])"
      ],
      "execution_count": null,
      "outputs": []
    },
    {
      "cell_type": "markdown",
      "metadata": {
        "id": "oq16NsIks4da"
      },
      "source": [
        "Compute the loss"
      ]
    },
    {
      "cell_type": "code",
      "metadata": {
        "id": "rVyhBLGzeKok"
      },
      "source": [
        "loss = -tf.reduce_mean(tf.reshape(tf.reduce_sum(tf.multiply(y_one_hot, predicted_probability), axis=-1), [-1]))"
      ],
      "execution_count": null,
      "outputs": []
    },
    {
      "cell_type": "markdown",
      "metadata": {
        "id": "3Asl8jpWs1j2"
      },
      "source": [
        "Calculate the accuracy"
      ]
    },
    {
      "cell_type": "code",
      "metadata": {
        "id": "-zB9wiH1eMRq",
        "outputId": "4bc403c1-036f-4c64-83ec-bffda6ba789f",
        "colab": {
          "base_uri": "https://localhost:8080/"
        }
      },
      "source": [
        "accuracy = tf.reduce_mean(tf.to_float(tf.equal(tf.argmax(predicted_probability, axis=-1), y)))"
      ],
      "execution_count": null,
      "outputs": [
        {
          "output_type": "stream",
          "text": [
            "WARNING:tensorflow:From <ipython-input-31-8b342a457945>:1: to_float (from tensorflow.python.ops.math_ops) is deprecated and will be removed in a future version.\n",
            "Instructions for updating:\n",
            "Use tf.cast instead.\n"
          ],
          "name": "stdout"
        }
      ]
    },
    {
      "cell_type": "markdown",
      "metadata": {
        "id": "aeVeeyjFsxHW"
      },
      "source": [
        "Using Adam Optimizer to minimize the loss"
      ]
    },
    {
      "cell_type": "code",
      "metadata": {
        "id": "b4td09UPeNwI",
        "outputId": "948b7c15-f770-4096-ff91-49fba064611e",
        "colab": {
          "base_uri": "https://localhost:8080/"
        }
      },
      "source": [
        "train = tf.train.AdamOptimizer().minimize(loss)"
      ],
      "execution_count": null,
      "outputs": [
        {
          "output_type": "stream",
          "text": [
            "WARNING:tensorflow:From /usr/local/lib/python3.6/dist-packages/tensorflow/python/ops/math_ops.py:3066: to_int32 (from tensorflow.python.ops.math_ops) is deprecated and will be removed in a future version.\n",
            "Instructions for updating:\n",
            "Use tf.cast instead.\n"
          ],
          "name": "stdout"
        }
      ]
    },
    {
      "cell_type": "markdown",
      "metadata": {
        "id": "g7JahNQispQC"
      },
      "source": [
        "Train the model by starting the tensorflow session"
      ]
    },
    {
      "cell_type": "code",
      "metadata": {
        "id": "polX4trwePjl"
      },
      "source": [
        "sess = tf.InteractiveSession()\n",
        "init = tf.global_variables_initializer()\n",
        "sess.run(init)"
      ],
      "execution_count": null,
      "outputs": []
    },
    {
      "cell_type": "code",
      "metadata": {
        "id": "bCkVWQzmeSIZ"
      },
      "source": [
        "num_epochs = 20\n",
        "num_episodes = 100"
      ],
      "execution_count": null,
      "outputs": []
    },
    {
      "cell_type": "code",
      "metadata": {
        "id": "7mehhl5LeUG5",
        "outputId": "c86ebd2a-dd03-4752-c2b2-69075c4d45b4",
        "colab": {
          "base_uri": "https://localhost:8080/"
        }
      },
      "source": [
        "for epoch in range(num_epochs):\n",
        "    \n",
        "    for episode in range(num_episodes):\n",
        "        \n",
        "        # select 60 classes\n",
        "        episodic_classes = np.random.permutation(no_of_classes)[:num_way]\n",
        "        \n",
        "        support = np.zeros([num_way, num_shot, img_height, img_width], dtype=np.float32)\n",
        "        \n",
        "        query = np.zeros([num_way, num_query, img_height, img_width], dtype=np.float32)\n",
        "        \n",
        "        \n",
        "        for index, class_ in enumerate(episodic_classes):\n",
        "            selected = np.random.permutation(num_examples)[:num_shot + num_query]\n",
        "            support[index] = train_dataset[class_, selected[:num_shot]]\n",
        "            \n",
        "            # 5 querypoints per classs\n",
        "            query[index] = train_dataset[class_, selected[num_shot:]]\n",
        "            \n",
        "        support = np.expand_dims(support, axis=-1)\n",
        "        query = np.expand_dims(query, axis=-1)\n",
        "        labels = np.tile(np.arange(num_way)[:, np.newaxis], (1, num_query)).astype(np.uint8)\n",
        "        _, loss_, accuracy_ = sess.run([train, loss, accuracy], feed_dict={support_set: support, query_set: query, y:labels})\n",
        "        \n",
        "        if (episode+1) % 10 == 0:\n",
        "            print('Epoch {} : Episode {} : Loss: {}, Accuracy: {}'.format(epoch+1, episode+1, loss_, accuracy_))"
      ],
      "execution_count": null,
      "outputs": [
        {
          "output_type": "stream",
          "text": [
            "Epoch 1 : Episode 10 : Loss: 5.703781604766846, Accuracy: 0.01666666753590107\n",
            "Epoch 1 : Episode 20 : Loss: 5.703781604766846, Accuracy: 0.01666666753590107\n",
            "Epoch 1 : Episode 30 : Loss: 5.703781604766846, Accuracy: 0.01666666753590107\n",
            "Epoch 1 : Episode 40 : Loss: 5.703781604766846, Accuracy: 0.01666666753590107\n",
            "Epoch 1 : Episode 50 : Loss: 5.703781604766846, Accuracy: 0.01666666753590107\n",
            "Epoch 1 : Episode 60 : Loss: 5.703781604766846, Accuracy: 0.01666666753590107\n",
            "Epoch 1 : Episode 70 : Loss: 5.703781604766846, Accuracy: 0.01666666753590107\n",
            "Epoch 1 : Episode 80 : Loss: 5.703781604766846, Accuracy: 0.01666666753590107\n",
            "Epoch 1 : Episode 90 : Loss: 5.703781604766846, Accuracy: 0.01666666753590107\n",
            "Epoch 1 : Episode 100 : Loss: 5.703781604766846, Accuracy: 0.01666666753590107\n",
            "Epoch 2 : Episode 10 : Loss: 5.703781604766846, Accuracy: 0.01666666753590107\n",
            "Epoch 2 : Episode 20 : Loss: 5.703781604766846, Accuracy: 0.01666666753590107\n",
            "Epoch 2 : Episode 30 : Loss: 5.703781604766846, Accuracy: 0.01666666753590107\n",
            "Epoch 2 : Episode 40 : Loss: 5.703781604766846, Accuracy: 0.01666666753590107\n",
            "Epoch 2 : Episode 50 : Loss: 5.703781604766846, Accuracy: 0.01666666753590107\n",
            "Epoch 2 : Episode 60 : Loss: 5.703781604766846, Accuracy: 0.01666666753590107\n",
            "Epoch 2 : Episode 70 : Loss: 5.703781604766846, Accuracy: 0.01666666753590107\n",
            "Epoch 2 : Episode 80 : Loss: 5.703781604766846, Accuracy: 0.01666666753590107\n",
            "Epoch 2 : Episode 90 : Loss: 5.703781604766846, Accuracy: 0.01666666753590107\n",
            "Epoch 2 : Episode 100 : Loss: 5.703781604766846, Accuracy: 0.01666666753590107\n",
            "Epoch 3 : Episode 10 : Loss: 5.703781604766846, Accuracy: 0.01666666753590107\n",
            "Epoch 3 : Episode 20 : Loss: 5.703781604766846, Accuracy: 0.01666666753590107\n",
            "Epoch 3 : Episode 30 : Loss: 5.703781604766846, Accuracy: 0.01666666753590107\n",
            "Epoch 3 : Episode 40 : Loss: 5.703781604766846, Accuracy: 0.01666666753590107\n",
            "Epoch 3 : Episode 50 : Loss: 5.703781604766846, Accuracy: 0.01666666753590107\n",
            "Epoch 3 : Episode 60 : Loss: 5.703781604766846, Accuracy: 0.01666666753590107\n",
            "Epoch 3 : Episode 70 : Loss: 5.703781604766846, Accuracy: 0.01666666753590107\n",
            "Epoch 3 : Episode 80 : Loss: 5.703781604766846, Accuracy: 0.01666666753590107\n",
            "Epoch 3 : Episode 90 : Loss: 5.703781604766846, Accuracy: 0.01666666753590107\n",
            "Epoch 3 : Episode 100 : Loss: 5.703781604766846, Accuracy: 0.01666666753590107\n",
            "Epoch 4 : Episode 10 : Loss: 5.703781604766846, Accuracy: 0.01666666753590107\n",
            "Epoch 4 : Episode 20 : Loss: 5.703781604766846, Accuracy: 0.01666666753590107\n",
            "Epoch 4 : Episode 30 : Loss: 5.703781604766846, Accuracy: 0.01666666753590107\n",
            "Epoch 4 : Episode 40 : Loss: 5.703781604766846, Accuracy: 0.01666666753590107\n",
            "Epoch 4 : Episode 50 : Loss: 5.703781604766846, Accuracy: 0.01666666753590107\n",
            "Epoch 4 : Episode 60 : Loss: 5.703781604766846, Accuracy: 0.01666666753590107\n",
            "Epoch 4 : Episode 70 : Loss: 5.703781604766846, Accuracy: 0.01666666753590107\n",
            "Epoch 4 : Episode 80 : Loss: 5.703781604766846, Accuracy: 0.01666666753590107\n",
            "Epoch 4 : Episode 90 : Loss: 5.703781604766846, Accuracy: 0.01666666753590107\n",
            "Epoch 4 : Episode 100 : Loss: 5.703781604766846, Accuracy: 0.01666666753590107\n",
            "Epoch 5 : Episode 10 : Loss: 5.703781604766846, Accuracy: 0.01666666753590107\n",
            "Epoch 5 : Episode 20 : Loss: 5.703781604766846, Accuracy: 0.01666666753590107\n",
            "Epoch 5 : Episode 30 : Loss: 5.703781604766846, Accuracy: 0.01666666753590107\n",
            "Epoch 5 : Episode 40 : Loss: 5.703781604766846, Accuracy: 0.01666666753590107\n",
            "Epoch 5 : Episode 50 : Loss: 5.703781604766846, Accuracy: 0.01666666753590107\n",
            "Epoch 5 : Episode 60 : Loss: 5.703781604766846, Accuracy: 0.01666666753590107\n",
            "Epoch 5 : Episode 70 : Loss: 5.703781604766846, Accuracy: 0.01666666753590107\n",
            "Epoch 5 : Episode 80 : Loss: 5.703781604766846, Accuracy: 0.01666666753590107\n",
            "Epoch 5 : Episode 90 : Loss: 5.703781604766846, Accuracy: 0.01666666753590107\n",
            "Epoch 5 : Episode 100 : Loss: 5.703781604766846, Accuracy: 0.01666666753590107\n",
            "Epoch 6 : Episode 10 : Loss: 5.703781604766846, Accuracy: 0.01666666753590107\n",
            "Epoch 6 : Episode 20 : Loss: 5.703781604766846, Accuracy: 0.01666666753590107\n",
            "Epoch 6 : Episode 30 : Loss: 5.703781604766846, Accuracy: 0.01666666753590107\n",
            "Epoch 6 : Episode 40 : Loss: 5.703781604766846, Accuracy: 0.01666666753590107\n",
            "Epoch 6 : Episode 50 : Loss: 5.703781604766846, Accuracy: 0.01666666753590107\n",
            "Epoch 6 : Episode 60 : Loss: 5.703781604766846, Accuracy: 0.01666666753590107\n",
            "Epoch 6 : Episode 70 : Loss: 5.703781604766846, Accuracy: 0.01666666753590107\n",
            "Epoch 6 : Episode 80 : Loss: 5.703781604766846, Accuracy: 0.01666666753590107\n",
            "Epoch 6 : Episode 90 : Loss: 5.703781604766846, Accuracy: 0.01666666753590107\n",
            "Epoch 6 : Episode 100 : Loss: 5.703781604766846, Accuracy: 0.01666666753590107\n",
            "Epoch 7 : Episode 10 : Loss: 5.703781604766846, Accuracy: 0.01666666753590107\n",
            "Epoch 7 : Episode 20 : Loss: 5.703781604766846, Accuracy: 0.01666666753590107\n",
            "Epoch 7 : Episode 30 : Loss: 5.703781604766846, Accuracy: 0.01666666753590107\n",
            "Epoch 7 : Episode 40 : Loss: 5.703781604766846, Accuracy: 0.01666666753590107\n",
            "Epoch 7 : Episode 50 : Loss: 5.703781604766846, Accuracy: 0.01666666753590107\n",
            "Epoch 7 : Episode 60 : Loss: 5.703781604766846, Accuracy: 0.01666666753590107\n",
            "Epoch 7 : Episode 70 : Loss: 5.703781604766846, Accuracy: 0.01666666753590107\n",
            "Epoch 7 : Episode 80 : Loss: 5.703781604766846, Accuracy: 0.01666666753590107\n",
            "Epoch 7 : Episode 90 : Loss: 5.703781604766846, Accuracy: 0.01666666753590107\n",
            "Epoch 7 : Episode 100 : Loss: 5.703781604766846, Accuracy: 0.01666666753590107\n",
            "Epoch 8 : Episode 10 : Loss: 5.703781604766846, Accuracy: 0.01666666753590107\n",
            "Epoch 8 : Episode 20 : Loss: 5.703781604766846, Accuracy: 0.01666666753590107\n",
            "Epoch 8 : Episode 30 : Loss: 5.703781604766846, Accuracy: 0.01666666753590107\n",
            "Epoch 8 : Episode 40 : Loss: 5.703781604766846, Accuracy: 0.01666666753590107\n",
            "Epoch 8 : Episode 50 : Loss: 5.703781604766846, Accuracy: 0.01666666753590107\n",
            "Epoch 8 : Episode 60 : Loss: 5.703781604766846, Accuracy: 0.01666666753590107\n",
            "Epoch 8 : Episode 70 : Loss: 5.703781604766846, Accuracy: 0.01666666753590107\n",
            "Epoch 8 : Episode 80 : Loss: 5.703781604766846, Accuracy: 0.01666666753590107\n",
            "Epoch 8 : Episode 90 : Loss: 5.703781604766846, Accuracy: 0.01666666753590107\n",
            "Epoch 8 : Episode 100 : Loss: 5.703781604766846, Accuracy: 0.01666666753590107\n",
            "Epoch 9 : Episode 10 : Loss: 5.703781604766846, Accuracy: 0.01666666753590107\n",
            "Epoch 9 : Episode 20 : Loss: 5.703781604766846, Accuracy: 0.01666666753590107\n",
            "Epoch 9 : Episode 30 : Loss: 5.703781604766846, Accuracy: 0.01666666753590107\n",
            "Epoch 9 : Episode 40 : Loss: 5.703781604766846, Accuracy: 0.01666666753590107\n",
            "Epoch 9 : Episode 50 : Loss: 5.703781604766846, Accuracy: 0.01666666753590107\n",
            "Epoch 9 : Episode 60 : Loss: 5.703781604766846, Accuracy: 0.01666666753590107\n",
            "Epoch 9 : Episode 70 : Loss: 5.703781604766846, Accuracy: 0.01666666753590107\n",
            "Epoch 9 : Episode 80 : Loss: 5.703781604766846, Accuracy: 0.01666666753590107\n",
            "Epoch 9 : Episode 90 : Loss: 5.703781604766846, Accuracy: 0.01666666753590107\n",
            "Epoch 9 : Episode 100 : Loss: 5.703781604766846, Accuracy: 0.01666666753590107\n",
            "Epoch 10 : Episode 10 : Loss: 5.703781604766846, Accuracy: 0.01666666753590107\n",
            "Epoch 10 : Episode 20 : Loss: 5.703781604766846, Accuracy: 0.01666666753590107\n",
            "Epoch 10 : Episode 30 : Loss: 5.703781604766846, Accuracy: 0.01666666753590107\n",
            "Epoch 10 : Episode 40 : Loss: 5.703781604766846, Accuracy: 0.01666666753590107\n",
            "Epoch 10 : Episode 50 : Loss: 5.703781604766846, Accuracy: 0.01666666753590107\n",
            "Epoch 10 : Episode 60 : Loss: 5.703781604766846, Accuracy: 0.01666666753590107\n",
            "Epoch 10 : Episode 70 : Loss: 5.703781604766846, Accuracy: 0.01666666753590107\n",
            "Epoch 10 : Episode 80 : Loss: 5.703781604766846, Accuracy: 0.01666666753590107\n",
            "Epoch 10 : Episode 90 : Loss: 5.703781604766846, Accuracy: 0.01666666753590107\n",
            "Epoch 10 : Episode 100 : Loss: 5.703781604766846, Accuracy: 0.01666666753590107\n",
            "Epoch 11 : Episode 10 : Loss: 5.703781604766846, Accuracy: 0.01666666753590107\n",
            "Epoch 11 : Episode 20 : Loss: 5.703781604766846, Accuracy: 0.01666666753590107\n",
            "Epoch 11 : Episode 30 : Loss: 5.703781604766846, Accuracy: 0.01666666753590107\n",
            "Epoch 11 : Episode 40 : Loss: 5.703781604766846, Accuracy: 0.01666666753590107\n",
            "Epoch 11 : Episode 50 : Loss: 5.703781604766846, Accuracy: 0.01666666753590107\n",
            "Epoch 11 : Episode 60 : Loss: 5.703781604766846, Accuracy: 0.01666666753590107\n",
            "Epoch 11 : Episode 70 : Loss: 5.703781604766846, Accuracy: 0.01666666753590107\n",
            "Epoch 11 : Episode 80 : Loss: 5.703781604766846, Accuracy: 0.01666666753590107\n",
            "Epoch 11 : Episode 90 : Loss: 5.703781604766846, Accuracy: 0.01666666753590107\n",
            "Epoch 11 : Episode 100 : Loss: 5.703781604766846, Accuracy: 0.01666666753590107\n",
            "Epoch 12 : Episode 10 : Loss: 5.703781604766846, Accuracy: 0.01666666753590107\n",
            "Epoch 12 : Episode 20 : Loss: 5.703781604766846, Accuracy: 0.01666666753590107\n",
            "Epoch 12 : Episode 30 : Loss: 5.703781604766846, Accuracy: 0.01666666753590107\n",
            "Epoch 12 : Episode 40 : Loss: 5.703781604766846, Accuracy: 0.01666666753590107\n",
            "Epoch 12 : Episode 50 : Loss: 5.703781604766846, Accuracy: 0.01666666753590107\n",
            "Epoch 12 : Episode 60 : Loss: 5.703781604766846, Accuracy: 0.01666666753590107\n",
            "Epoch 12 : Episode 70 : Loss: 5.703781604766846, Accuracy: 0.01666666753590107\n",
            "Epoch 12 : Episode 80 : Loss: 5.703781604766846, Accuracy: 0.01666666753590107\n",
            "Epoch 12 : Episode 90 : Loss: 5.703781604766846, Accuracy: 0.01666666753590107\n",
            "Epoch 12 : Episode 100 : Loss: 5.703781604766846, Accuracy: 0.01666666753590107\n",
            "Epoch 13 : Episode 10 : Loss: 5.703781604766846, Accuracy: 0.01666666753590107\n",
            "Epoch 13 : Episode 20 : Loss: 5.703781604766846, Accuracy: 0.01666666753590107\n",
            "Epoch 13 : Episode 30 : Loss: 5.703781604766846, Accuracy: 0.01666666753590107\n",
            "Epoch 13 : Episode 40 : Loss: 5.703781604766846, Accuracy: 0.01666666753590107\n",
            "Epoch 13 : Episode 50 : Loss: 5.703781604766846, Accuracy: 0.01666666753590107\n",
            "Epoch 13 : Episode 60 : Loss: 5.703781604766846, Accuracy: 0.01666666753590107\n",
            "Epoch 13 : Episode 70 : Loss: 5.703781604766846, Accuracy: 0.01666666753590107\n",
            "Epoch 13 : Episode 80 : Loss: 5.703781604766846, Accuracy: 0.01666666753590107\n",
            "Epoch 13 : Episode 90 : Loss: 5.703781604766846, Accuracy: 0.01666666753590107\n",
            "Epoch 13 : Episode 100 : Loss: 5.703781604766846, Accuracy: 0.01666666753590107\n",
            "Epoch 14 : Episode 10 : Loss: 5.703781604766846, Accuracy: 0.01666666753590107\n",
            "Epoch 14 : Episode 20 : Loss: 5.703781604766846, Accuracy: 0.01666666753590107\n",
            "Epoch 14 : Episode 30 : Loss: 5.703781604766846, Accuracy: 0.01666666753590107\n",
            "Epoch 14 : Episode 40 : Loss: 5.703781604766846, Accuracy: 0.01666666753590107\n",
            "Epoch 14 : Episode 50 : Loss: 5.703781604766846, Accuracy: 0.01666666753590107\n",
            "Epoch 14 : Episode 60 : Loss: 5.703781604766846, Accuracy: 0.01666666753590107\n",
            "Epoch 14 : Episode 70 : Loss: 5.703781604766846, Accuracy: 0.01666666753590107\n",
            "Epoch 14 : Episode 80 : Loss: 5.703781604766846, Accuracy: 0.01666666753590107\n",
            "Epoch 14 : Episode 90 : Loss: 5.703781604766846, Accuracy: 0.01666666753590107\n",
            "Epoch 14 : Episode 100 : Loss: 5.703781604766846, Accuracy: 0.01666666753590107\n",
            "Epoch 15 : Episode 10 : Loss: 5.703781604766846, Accuracy: 0.01666666753590107\n",
            "Epoch 15 : Episode 20 : Loss: 5.703781604766846, Accuracy: 0.01666666753590107\n",
            "Epoch 15 : Episode 30 : Loss: 5.703781604766846, Accuracy: 0.01666666753590107\n",
            "Epoch 15 : Episode 40 : Loss: 5.703781604766846, Accuracy: 0.01666666753590107\n",
            "Epoch 15 : Episode 50 : Loss: 5.703781604766846, Accuracy: 0.01666666753590107\n",
            "Epoch 15 : Episode 60 : Loss: 5.703781604766846, Accuracy: 0.01666666753590107\n",
            "Epoch 15 : Episode 70 : Loss: 5.703781604766846, Accuracy: 0.01666666753590107\n",
            "Epoch 15 : Episode 80 : Loss: 5.703781604766846, Accuracy: 0.01666666753590107\n",
            "Epoch 15 : Episode 90 : Loss: 5.703781604766846, Accuracy: 0.01666666753590107\n",
            "Epoch 15 : Episode 100 : Loss: 5.703781604766846, Accuracy: 0.01666666753590107\n",
            "Epoch 16 : Episode 10 : Loss: 5.703781604766846, Accuracy: 0.01666666753590107\n",
            "Epoch 16 : Episode 20 : Loss: 5.703781604766846, Accuracy: 0.01666666753590107\n",
            "Epoch 16 : Episode 30 : Loss: 5.703781604766846, Accuracy: 0.01666666753590107\n",
            "Epoch 16 : Episode 40 : Loss: 5.703781604766846, Accuracy: 0.01666666753590107\n",
            "Epoch 16 : Episode 50 : Loss: 5.703781604766846, Accuracy: 0.01666666753590107\n",
            "Epoch 16 : Episode 60 : Loss: 5.703781604766846, Accuracy: 0.01666666753590107\n",
            "Epoch 16 : Episode 70 : Loss: 5.703781604766846, Accuracy: 0.01666666753590107\n",
            "Epoch 16 : Episode 80 : Loss: 5.703781604766846, Accuracy: 0.01666666753590107\n",
            "Epoch 16 : Episode 90 : Loss: 5.703781604766846, Accuracy: 0.01666666753590107\n",
            "Epoch 16 : Episode 100 : Loss: 5.703781604766846, Accuracy: 0.01666666753590107\n",
            "Epoch 17 : Episode 10 : Loss: 5.703781604766846, Accuracy: 0.01666666753590107\n",
            "Epoch 17 : Episode 20 : Loss: 5.703781604766846, Accuracy: 0.01666666753590107\n",
            "Epoch 17 : Episode 30 : Loss: 5.703781604766846, Accuracy: 0.01666666753590107\n",
            "Epoch 17 : Episode 40 : Loss: 5.703781604766846, Accuracy: 0.01666666753590107\n",
            "Epoch 17 : Episode 50 : Loss: 5.703781604766846, Accuracy: 0.01666666753590107\n",
            "Epoch 17 : Episode 60 : Loss: 5.703781604766846, Accuracy: 0.01666666753590107\n",
            "Epoch 17 : Episode 70 : Loss: 5.703781604766846, Accuracy: 0.01666666753590107\n",
            "Epoch 17 : Episode 80 : Loss: 5.703781604766846, Accuracy: 0.01666666753590107\n",
            "Epoch 17 : Episode 90 : Loss: 5.703781604766846, Accuracy: 0.01666666753590107\n",
            "Epoch 17 : Episode 100 : Loss: 5.703781604766846, Accuracy: 0.01666666753590107\n",
            "Epoch 18 : Episode 10 : Loss: 5.703781604766846, Accuracy: 0.01666666753590107\n",
            "Epoch 18 : Episode 20 : Loss: 5.703781604766846, Accuracy: 0.01666666753590107\n",
            "Epoch 18 : Episode 30 : Loss: 5.703781604766846, Accuracy: 0.01666666753590107\n",
            "Epoch 18 : Episode 40 : Loss: 5.703781604766846, Accuracy: 0.01666666753590107\n",
            "Epoch 18 : Episode 50 : Loss: 5.703781604766846, Accuracy: 0.01666666753590107\n",
            "Epoch 18 : Episode 60 : Loss: 5.703781604766846, Accuracy: 0.01666666753590107\n",
            "Epoch 18 : Episode 70 : Loss: 5.703781604766846, Accuracy: 0.01666666753590107\n",
            "Epoch 18 : Episode 80 : Loss: 5.703781604766846, Accuracy: 0.01666666753590107\n",
            "Epoch 18 : Episode 90 : Loss: 5.703781604766846, Accuracy: 0.01666666753590107\n",
            "Epoch 18 : Episode 100 : Loss: 5.703781604766846, Accuracy: 0.01666666753590107\n",
            "Epoch 19 : Episode 10 : Loss: 5.703781604766846, Accuracy: 0.01666666753590107\n",
            "Epoch 19 : Episode 20 : Loss: 5.703781604766846, Accuracy: 0.01666666753590107\n",
            "Epoch 19 : Episode 30 : Loss: 5.703781604766846, Accuracy: 0.01666666753590107\n",
            "Epoch 19 : Episode 40 : Loss: 5.703781604766846, Accuracy: 0.01666666753590107\n",
            "Epoch 19 : Episode 50 : Loss: 5.703781604766846, Accuracy: 0.01666666753590107\n",
            "Epoch 19 : Episode 60 : Loss: 5.703781604766846, Accuracy: 0.01666666753590107\n",
            "Epoch 19 : Episode 70 : Loss: 5.703781604766846, Accuracy: 0.01666666753590107\n",
            "Epoch 19 : Episode 80 : Loss: 5.703781604766846, Accuracy: 0.01666666753590107\n",
            "Epoch 19 : Episode 90 : Loss: 5.703781604766846, Accuracy: 0.01666666753590107\n",
            "Epoch 19 : Episode 100 : Loss: 5.703781604766846, Accuracy: 0.01666666753590107\n",
            "Epoch 20 : Episode 10 : Loss: 5.703781604766846, Accuracy: 0.01666666753590107\n",
            "Epoch 20 : Episode 20 : Loss: 5.703781604766846, Accuracy: 0.01666666753590107\n",
            "Epoch 20 : Episode 30 : Loss: 5.703781604766846, Accuracy: 0.01666666753590107\n",
            "Epoch 20 : Episode 40 : Loss: 5.703781604766846, Accuracy: 0.01666666753590107\n",
            "Epoch 20 : Episode 50 : Loss: 5.703781604766846, Accuracy: 0.01666666753590107\n",
            "Epoch 20 : Episode 60 : Loss: 5.703781604766846, Accuracy: 0.01666666753590107\n",
            "Epoch 20 : Episode 70 : Loss: 5.703781604766846, Accuracy: 0.01666666753590107\n",
            "Epoch 20 : Episode 80 : Loss: 5.703781604766846, Accuracy: 0.01666666753590107\n",
            "Epoch 20 : Episode 90 : Loss: 5.703781604766846, Accuracy: 0.01666666753590107\n",
            "Epoch 20 : Episode 100 : Loss: 5.703781604766846, Accuracy: 0.01666666753590107\n"
          ],
          "name": "stdout"
        }
      ]
    }
  ]
}