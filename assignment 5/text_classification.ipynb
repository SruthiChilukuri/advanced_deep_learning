{
  "nbformat": 4,
  "nbformat_minor": 0,
  "metadata": {
    "colab": {
      "name": "text_classification.ipynb",
      "provenance": [],
      "collapsed_sections": []
    },
    "kernelspec": {
      "name": "python3",
      "display_name": "Python 3"
    }
  },
  "cells": [
    {
      "cell_type": "markdown",
      "metadata": {
        "id": "cZXL-60gT8el"
      },
      "source": [
        "##This colab demonstrates the implementation of transformer using attention mechanism of text classification task using keras.\r\n",
        "\r\n",
        "Dataset used : IMDB dataset. \r\n",
        "\r\n",
        "**Attention mechanism:**\r\n",
        "\r\n",
        "* Used especially in Natural language classification and text classification problems\r\n",
        "* It is an improvement to the encoder-decoder setup\r\n",
        "* It means to prominantly focus on those words or lemma that need attention by ignoring the rest of the sections of the text.\r\n",
        "\r\n",
        "* It looks at an input sequence and decides at each of the steps which other parts of the sequence are important.\r\n",
        "\r\n",
        "**Transformer**\r\n",
        "\r\n",
        "* Attention is applied in transformers\r\n",
        "* There is an encoder and a decoder setup. \r\n",
        "* The Encoder also writes down keywords that are important to the semantics of the sentence, and gives them to the Decoder in addition to the regular translation.\r\n"
      ]
    },
    {
      "cell_type": "markdown",
      "metadata": {
        "id": "BZfMC093U0eV"
      },
      "source": [
        "# Import libraries"
      ]
    },
    {
      "cell_type": "code",
      "metadata": {
        "id": "q3RWPhmqRFVC"
      },
      "source": [
        "# Import required libraries\r\n",
        "import tensorflow as tf\r\n",
        "from tensorflow import keras\r\n",
        "from tensorflow.keras import layers"
      ],
      "execution_count": null,
      "outputs": []
    },
    {
      "cell_type": "markdown",
      "metadata": {
        "id": "hLCQTQT0VAtI"
      },
      "source": [
        "# Implement Multi Head Self Attention "
      ]
    },
    {
      "cell_type": "code",
      "metadata": {
        "id": "GgtJTx-eRXT8"
      },
      "source": [
        "class MultiHead_SelfAttention(layers.Layer):\r\n",
        "    def __init__(self, embed_dim, num_head=8):\r\n",
        "        super(MultiHead_SelfAttention, self).__init__()\r\n",
        "        self.embed_dim = embed_dim\r\n",
        "        self.num_head = num_head\r\n",
        "        if embed_dim % num_head != 0:\r\n",
        "            raise ValueError(f\"embedding dimension = {embed_dim} should be divisible by number of head = {num_head}\")\r\n",
        "        self.projection_dim = embed_dim // num_head\r\n",
        "        self.query_dense = layers.Dense(embed_dim)\r\n",
        "        self.key_dense = layers.Dense(embed_dim)\r\n",
        "        self.value_dense = layers.Dense(embed_dim)\r\n",
        "        self.combine_head = layers.Dense(embed_dim)\r\n",
        "\r\n",
        "    def attention(self, query, key, value):\r\n",
        "        score = tf.matmul(query, key, transpose_b=True)\r\n",
        "        dim_key = tf.cast(tf.shape(key)[-1], tf.float32)\r\n",
        "        scaled_score = score / tf.math.sqrt(dim_key)\r\n",
        "        weights = tf.nn.softmax(scaled_score, axis=-1)\r\n",
        "        output = tf.matmul(weights, value)\r\n",
        "        return output, weights\r\n",
        "\r\n",
        "    def separate_head(self, x, batch_size):\r\n",
        "        x = tf.reshape(x, (batch_size, -1, self.num_head, self.projection_dim))\r\n",
        "        return tf.transpose(x, perm=[0, 2, 1, 3])\r\n",
        "\r\n",
        "    def call(self, inputs):\r\n",
        "        batch_size = tf.shape(inputs)[0]\r\n",
        "        # (batch_size, seq_len, embed_dim)\r\n",
        "        query = self.query_dense(inputs) \r\n",
        "        key = self.key_dense(inputs)\r\n",
        "        value = self.value_dense(inputs)\r\n",
        "        query = self.separate_head(query, batch_size)\r\n",
        "        key = self.separate_head(key, batch_size)\r\n",
        "        value = self.separate_head(value, batch_size)\r\n",
        "        attention, weights = self.attention(query, key, value)\r\n",
        "        attention = tf.transpose(attention, perm=[0, 2, 1, 3])\r\n",
        "        concatinate_attention = tf.reshape(attention, (batch_size, -1, self.embed_dim))\r\n",
        "        output = self.combine_head(concatinate_attention)\r\n",
        "        return output\r\n",
        "\r\n"
      ],
      "execution_count": null,
      "outputs": []
    },
    {
      "cell_type": "code",
      "metadata": {
        "id": "JF2IH6ilRcYt"
      },
      "source": [
        "class Transformer_Block(layers.Layer):\r\n",
        "    def __init__(self, embed_dim, num_head, ff_dim, rate=0.1):\r\n",
        "        super(Transformer_Block, self).__init__()\r\n",
        "        self.att = MultiHead_SelfAttention(embed_dim, num_head)\r\n",
        "        self.ffn = keras.Sequential([layers.Dense(ff_dim, activation=\"relu\"), layers.Dense(embed_dim),])\r\n",
        "        self.layer_norm1 = layers.LayerNormalization(epsilon=1e-6)\r\n",
        "        self.layer_norm2 = layers.LayerNormalization(epsilon=1e-6)\r\n",
        "        self.dropout_1 = layers.Dropout(rate)\r\n",
        "        self.dropout_2 = layers.Dropout(rate)\r\n",
        "\r\n",
        "    def call(self, inputs, training):\r\n",
        "        attn_output = self.att(inputs)\r\n",
        "        attn_output = self.dropout_1(attn_output, training=training)\r\n",
        "        out1 = self.layer_norm1(inputs + attn_output)\r\n",
        "        ffn_output = self.ffn(out1)\r\n",
        "        ffn_output = self.dropout_2(ffn_output, training=training)\r\n",
        "        return self.layer_norm2(out1 + ffn_output)\r\n",
        "\r\n"
      ],
      "execution_count": null,
      "outputs": []
    },
    {
      "cell_type": "code",
      "metadata": {
        "id": "dG_yiLjuRhLL"
      },
      "source": [
        "\r\n",
        "class TokenAndPosition_Embedding(layers.Layer):\r\n",
        "    def __init__(self, maxlen, vocab_size, embed_dim):\r\n",
        "        super(TokenAndPosition_Embedding, self).__init__()\r\n",
        "        self.token_emb = layers.Embedding(input_dim=vocab_size, output_dim=embed_dim)\r\n",
        "        self.pos_emb = layers.Embedding(input_dim=maxlen, output_dim=embed_dim)\r\n",
        "\r\n",
        "    def call(self, x):\r\n",
        "        maxlen = tf.shape(x)[-1]\r\n",
        "        position = tf.range(start=0, limit=maxlen, delta=1)\r\n",
        "        position = self.pos_emb(position)\r\n",
        "        x = self.token_emb(x)\r\n",
        "        return x + position\r\n",
        "\r\n"
      ],
      "execution_count": null,
      "outputs": []
    },
    {
      "cell_type": "code",
      "metadata": {
        "colab": {
          "base_uri": "https://localhost:8080/"
        },
        "id": "teKuHwWCRjNb",
        "outputId": "737ba12b-b3ce-4dcc-d22c-e53672cef3e8"
      },
      "source": [
        "vocab_size = 20000\r\n",
        "max_len = 200\r\n",
        "(x_train, y_train), (x_val, y_val) = keras.datasets.imdb.load_data(num_words=vocab_size)\r\n",
        "print(len(x_train), \"Training sequences\")\r\n",
        "print(len(x_val), \"Validation sequences\")\r\n",
        "x_train = keras.preprocessing.sequence.pad_sequences(x_train, maxlen=max_len)\r\n",
        "x_val = keras.preprocessing.sequence.pad_sequences(x_val, maxlen=max_len)"
      ],
      "execution_count": null,
      "outputs": [
        {
          "output_type": "stream",
          "text": [
            "Downloading data from https://storage.googleapis.com/tensorflow/tf-keras-datasets/imdb.npz\n",
            "17465344/17464789 [==============================] - 0s 0us/step\n",
            "25000 Training sequences\n",
            "25000 Validation sequences\n"
          ],
          "name": "stdout"
        }
      ]
    },
    {
      "cell_type": "code",
      "metadata": {
        "id": "suBfZMdbRllL"
      },
      "source": [
        "# Define parameters\r\n",
        "embed_dim = 32 \r\n",
        "num_head = 2\r\n",
        "feed_forward_dim = 32\r\n",
        "\r\n",
        "inputs = layers.Input(shape=(max_len,))\r\n",
        "embedding_layer = TokenAndPosition_Embedding(max_len, vocab_size, embed_dim)\r\n",
        "x = embedding_layer(inputs)\r\n",
        "transformer_block = Transformer_Block(embed_dim, num_head, ff_dim)\r\n",
        "x = transformer_block(x)\r\n",
        "x = layers.GlobalAveragePooling1D()(x)\r\n",
        "x = layers.Dropout(0.1)(x)\r\n",
        "x = layers.Dense(20, activation=\"relu\")(x)\r\n",
        "x = layers.Dropout(0.1)(x)\r\n",
        "output = layers.Dense(2, activation=\"softmax\")(x)\r\n",
        "\r\n",
        "model = keras.Model(inputs=inputs, outputs=output)"
      ],
      "execution_count": null,
      "outputs": []
    },
    {
      "cell_type": "code",
      "metadata": {
        "colab": {
          "base_uri": "https://localhost:8080/"
        },
        "id": "nOKDZECPShg2",
        "outputId": "1e4ad9dd-b2a8-45cc-f54e-14f6645bd658"
      },
      "source": [
        "# Check tensorflow version\r\n",
        "print (tf.__version__)"
      ],
      "execution_count": null,
      "outputs": [
        {
          "output_type": "stream",
          "text": [
            "2.3.0\n"
          ],
          "name": "stdout"
        }
      ]
    },
    {
      "cell_type": "code",
      "metadata": {
        "id": "GwT8FXqDSnd4"
      },
      "source": [
        "# Initialize Tensorboard for visualization\r\n",
        "%reload_ext tensorboard\r\n",
        "%tensorboard --logdir logs"
      ],
      "execution_count": null,
      "outputs": []
    },
    {
      "cell_type": "code",
      "metadata": {
        "colab": {
          "base_uri": "https://localhost:8080/"
        },
        "id": "iQSfPsrnRoUH",
        "outputId": "b76079db-5f1d-4b3f-bb21-65d4ebdb828b"
      },
      "source": [
        "model.compile(\"adam\", \"sparse_categorical_crossentropy\", metrics=[\"accuracy\"])\r\n",
        "history = model.fit(    x_train, y_train, batch_size=32, epochs=2, validation_data=(x_val, y_val)\r\n",
        ")\r\n"
      ],
      "execution_count": null,
      "outputs": [
        {
          "output_type": "stream",
          "text": [
            "Epoch 1/2\n",
            "782/782 [==============================] - 78s 99ms/step - loss: 0.3778 - accuracy: 0.8283 - val_loss: 0.3160 - val_accuracy: 0.8604\n",
            "Epoch 2/2\n",
            "782/782 [==============================] - 77s 99ms/step - loss: 0.2024 - accuracy: 0.9241 - val_loss: 0.3284 - val_accuracy: 0.8659\n"
          ],
          "name": "stdout"
        }
      ]
    },
    {
      "cell_type": "code",
      "metadata": {
        "id": "ThQ6paZmRqn8"
      },
      "source": [
        ""
      ],
      "execution_count": null,
      "outputs": []
    }
  ]
}